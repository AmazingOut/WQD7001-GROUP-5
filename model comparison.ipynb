{
  "cells": [
    {
      "cell_type": "code",
      "execution_count": null,
      "metadata": {
        "id": "E7J0v13P9yex"
      },
      "outputs": [],
      "source": [
        "In this experiment, deep neural network DNN, long and short-term memory network LSTM and differential integrated moving average autoregressive ARIMA model are implemented to predict A-shares\n"
      ]
    },
    {
      "cell_type": "markdown",
      "metadata": {
        "collapsed": false,
        "id": "zcC26mZ39yez"
      },
      "source": [
        "## runtime environment\n"
      ]
    },
    {
      "cell_type": "code",
      "execution_count": null,
      "metadata": {
        "id": "tiHOQTMv9ye0"
      },
      "outputs": [],
      "source": [
        "# -*- coding: utf-8 -*-\n",
        "\n",
        "%matplotlib inline\n",
        "\n",
        "import pandas as pd\n",
        "import numpy as np\n",
        "import matplotlib.pyplot as plt\n",
        "from sklearn.preprocessing import MinMaxScaler\n",
        "\n",
        "import paddle\n",
        "import paddle.fluid as fluid\n",
        "import paddle.fluid.layers as layers\n",
        "\n",
        "import statsmodels.api as sm \n",
        "from statsmodels.graphics.api import qqplot\n",
        "from statsmodels.tsa.arima_model import ARIMA\n",
        "import math"
      ]
    },
    {
      "cell_type": "markdown",
      "metadata": {
        "collapsed": false,
        "id": "38df_GNQ9ye1"
      },
      "source": [
        "### GPU(CPU)"
      ]
    },
    {
      "cell_type": "code",
      "execution_count": null,
      "metadata": {
        "id": "5apA2qIl9ye2"
      },
      "outputs": [],
      "source": [
        "# place = fluid.CUDAPlace(0) \n",
        "place = fluid.CPUPlace() "
      ]
    },
    {
      "cell_type": "markdown",
      "metadata": {
        "collapsed": false,
        "id": "p-lsrGoE9ye2"
      },
      "source": [
        "## data cleaning"
      ]
    },
    {
      "cell_type": "markdown",
      "metadata": {
        "collapsed": false,
        "id": "8zCec24g9ye3"
      },
      "source": [
        "### import data"
      ]
    },
    {
      "cell_type": "code",
      "execution_count": null,
      "metadata": {
        "id": "OcDd0VXT9ye3"
      },
      "outputs": [],
      "source": [
        "data_pd = pd.read_csv('./data/data72449/shangzheng.csv')"
      ]
    },
    {
      "cell_type": "markdown",
      "metadata": {
        "collapsed": false,
        "id": "tN3rWMjo9ye4"
      },
      "source": [
        "### View data header"
      ]
    },
    {
      "cell_type": "code",
      "execution_count": null,
      "metadata": {
        "id": "mPrNBFv_9ye4",
        "outputId": "90370a9d-ad20-48db-be6a-cb4ae183a84e"
      },
      "outputs": [
        {
          "data": {
            "text/html": [
              "<div>\n",
              "<style scoped>\n",
              "    .dataframe tbody tr th:only-of-type {\n",
              "        vertical-align: middle;\n",
              "    }\n",
              "\n",
              "    .dataframe tbody tr th {\n",
              "        vertical-align: top;\n",
              "    }\n",
              "\n",
              "    .dataframe thead th {\n",
              "        text-align: right;\n",
              "    }\n",
              "</style>\n",
              "<table border=\"1\" class=\"dataframe\">\n",
              "  <thead>\n",
              "    <tr style=\"text-align: right;\">\n",
              "      <th></th>\n",
              "      <th>date</th>\n",
              "      <th>over</th>\n",
              "      <th>begin</th>\n",
              "      <th>high</th>\n",
              "      <th>low</th>\n",
              "      <th>trade</th>\n",
              "      <th>wave</th>\n",
              "    </tr>\n",
              "  </thead>\n",
              "  <tbody>\n",
              "    <tr>\n",
              "      <th>0</th>\n",
              "      <td>2000年1月4日</td>\n",
              "      <td>1406.37</td>\n",
              "      <td>1368.69</td>\n",
              "      <td>1407.52</td>\n",
              "      <td>1361.21</td>\n",
              "      <td>437.09M</td>\n",
              "      <td>2.91%</td>\n",
              "    </tr>\n",
              "    <tr>\n",
              "      <th>1</th>\n",
              "      <td>2000年1月5日</td>\n",
              "      <td>1409.68</td>\n",
              "      <td>1407.83</td>\n",
              "      <td>1433.78</td>\n",
              "      <td>1398.32</td>\n",
              "      <td>688.09M</td>\n",
              "      <td>0.24%</td>\n",
              "    </tr>\n",
              "    <tr>\n",
              "      <th>2</th>\n",
              "      <td>2000年1月6日</td>\n",
              "      <td>1463.94</td>\n",
              "      <td>1406.04</td>\n",
              "      <td>1463.95</td>\n",
              "      <td>1400.25</td>\n",
              "      <td>809.05M</td>\n",
              "      <td>3.85%</td>\n",
              "    </tr>\n",
              "    <tr>\n",
              "      <th>3</th>\n",
              "      <td>2000年1月7日</td>\n",
              "      <td>1516.60</td>\n",
              "      <td>1477.15</td>\n",
              "      <td>1522.83</td>\n",
              "      <td>1477.15</td>\n",
              "      <td>1.60B</td>\n",
              "      <td>3.60%</td>\n",
              "    </tr>\n",
              "    <tr>\n",
              "      <th>4</th>\n",
              "      <td>2000年1月10日</td>\n",
              "      <td>1545.11</td>\n",
              "      <td>1531.71</td>\n",
              "      <td>1546.72</td>\n",
              "      <td>1506.40</td>\n",
              "      <td>1.51B</td>\n",
              "      <td>1.88%</td>\n",
              "    </tr>\n",
              "  </tbody>\n",
              "</table>\n",
              "</div>"
            ],
            "text/plain": [
              "         date     over    begin     high      low    trade   wave\n",
              "0   2000年1月4日  1406.37  1368.69  1407.52  1361.21  437.09M  2.91%\n",
              "1   2000年1月5日  1409.68  1407.83  1433.78  1398.32  688.09M  0.24%\n",
              "2   2000年1月6日  1463.94  1406.04  1463.95  1400.25  809.05M  3.85%\n",
              "3   2000年1月7日  1516.60  1477.15  1522.83  1477.15    1.60B  3.60%\n",
              "4  2000年1月10日  1545.11  1531.71  1546.72  1506.40    1.51B  1.88%"
            ]
          },
          "execution_count": 48,
          "metadata": {},
          "output_type": "execute_result"
        }
      ],
      "source": [
        "data_pd.head()\n",
        "# data_pd.tail()\n",
        "# data_pd.describe()\n",
        "# data_pd.info()"
      ]
    },
    {
      "cell_type": "markdown",
      "metadata": {
        "collapsed": false,
        "id": "owIhStxy9ye5"
      },
      "source": [
        "### Abnormal item cleaning"
      ]
    },
    {
      "cell_type": "code",
      "execution_count": null,
      "metadata": {
        "id": "mYp5Xngu9ye5",
        "outputId": "5af40b13-2e65-4294-8c6d-87fc49d3af69"
      },
      "outputs": [
        {
          "name": "stdout",
          "output_type": "stream",
          "text": [
            "<class 'pandas.core.frame.DataFrame'>\n",
            "RangeIndex: 5130 entries, 0 to 5129\n",
            "Data columns (total 7 columns):\n",
            " #   Column  Non-Null Count  Dtype  \n",
            "---  ------  --------------  -----  \n",
            " 0   date    5130 non-null   object \n",
            " 1   over    5130 non-null   float64\n",
            " 2   begin   5130 non-null   float64\n",
            " 3   high    5130 non-null   float64\n",
            " 4   low     5130 non-null   float64\n",
            " 5   trade   5130 non-null   object \n",
            " 6   wave    5130 non-null   object \n",
            "dtypes: float64(4), object(3)\n",
            "memory usage: 280.7+ KB\n"
          ]
        }
      ],
      "source": [
        "data_pd.info() "
      ]
    },
    {
      "cell_type": "markdown",
      "metadata": {
        "collapsed": false,
        "id": "2kuBv7RP9ye5"
      },
      "source": [
        "### Draw pictures to view the data"
      ]
    },
    {
      "cell_type": "code",
      "execution_count": null,
      "metadata": {
        "id": "sZwbIa4S9ye6",
        "outputId": "aaeba789-dbc5-4070-e3e5-910266fbf182"
      },
      "outputs": [
        {
          "data": {
            "text/plain": [
              "[<matplotlib.lines.Line2D at 0x7f0c27ff9a50>]"
            ]
          },
          "execution_count": 50,
          "metadata": {},
          "output_type": "execute_result"
        },
        {
          "data": {
            "image/png": "[encoded data removed]",
            "text/plain": [
              "<Figure size 432x288 with 1 Axes>"
            ]
          },
          "metadata": {},
          "output_type": "display_data"
        }
      ],
      "source": [
        "plt.plot(data_pd['over'])"
      ]
    },
    {
      "cell_type": "markdown",
      "metadata": {
        "collapsed": false,
        "id": "kZZOKCzr9ye6"
      },
      "source": [
        "### Extraction requires data and formatting"
      ]
    },
    {
      "cell_type": "code",
      "execution_count": null,
      "metadata": {
        "id": "-rPwgVO79ye6",
        "outputId": "b005aad6-10e7-4084-de4f-d2833639e7b2"
      },
      "outputs": [
        {
          "data": {
            "text/html": [
              "<div>\n",
              "<style scoped>\n",
              "    .dataframe tbody tr th:only-of-type {\n",
              "        vertical-align: middle;\n",
              "    }\n",
              "\n",
              "    .dataframe tbody tr th {\n",
              "        vertical-align: top;\n",
              "    }\n",
              "\n",
              "    .dataframe thead th {\n",
              "        text-align: right;\n",
              "    }\n",
              "</style>\n",
              "<table border=\"1\" class=\"dataframe\">\n",
              "  <thead>\n",
              "    <tr style=\"text-align: right;\">\n",
              "      <th></th>\n",
              "      <th>over</th>\n",
              "      <th>begin</th>\n",
              "      <th>high</th>\n",
              "      <th>low</th>\n",
              "    </tr>\n",
              "    <tr>\n",
              "      <th>date</th>\n",
              "      <th></th>\n",
              "      <th></th>\n",
              "      <th></th>\n",
              "      <th></th>\n",
              "    </tr>\n",
              "  </thead>\n",
              "  <tbody>\n",
              "    <tr>\n",
              "      <th>2000年1月4日</th>\n",
              "      <td>1406.37</td>\n",
              "      <td>1368.69</td>\n",
              "      <td>1407.52</td>\n",
              "      <td>1361.21</td>\n",
              "    </tr>\n",
              "    <tr>\n",
              "      <th>2000年1月5日</th>\n",
              "      <td>1409.68</td>\n",
              "      <td>1407.83</td>\n",
              "      <td>1433.78</td>\n",
              "      <td>1398.32</td>\n",
              "    </tr>\n",
              "    <tr>\n",
              "      <th>2000年1月6日</th>\n",
              "      <td>1463.94</td>\n",
              "      <td>1406.04</td>\n",
              "      <td>1463.95</td>\n",
              "      <td>1400.25</td>\n",
              "    </tr>\n",
              "    <tr>\n",
              "      <th>2000年1月7日</th>\n",
              "      <td>1516.60</td>\n",
              "      <td>1477.15</td>\n",
              "      <td>1522.83</td>\n",
              "      <td>1477.15</td>\n",
              "    </tr>\n",
              "    <tr>\n",
              "      <th>2000年1月10日</th>\n",
              "      <td>1545.11</td>\n",
              "      <td>1531.71</td>\n",
              "      <td>1546.72</td>\n",
              "      <td>1506.40</td>\n",
              "    </tr>\n",
              "  </tbody>\n",
              "</table>\n",
              "</div>"
            ],
            "text/plain": [
              "               over    begin     high      low\n",
              "date                                          \n",
              "2000年1月4日   1406.37  1368.69  1407.52  1361.21\n",
              "2000年1月5日   1409.68  1407.83  1433.78  1398.32\n",
              "2000年1月6日   1463.94  1406.04  1463.95  1400.25\n",
              "2000年1月7日   1516.60  1477.15  1522.83  1477.15\n",
              "2000年1月10日  1545.11  1531.71  1546.72  1506.40"
            ]
          },
          "execution_count": 51,
          "metadata": {},
          "output_type": "execute_result"
        }
      ],
      "source": [
        "data_pd.set_index('date', inplace=True)\n",
        "data_pd.drop(columns=['trade', 'wave'], inplace=True)\n",
        "data_pd.head()"
      ]
    },
    {
      "cell_type": "markdown",
      "metadata": {
        "collapsed": false,
        "id": "G80KTcNI9ye6"
      },
      "source": [
        "### standardized data"
      ]
    },
    {
      "cell_type": "code",
      "execution_count": null,
      "metadata": {
        "id": "i2uzSP8l9ye7"
      },
      "outputs": [],
      "source": [
        "split_boundary = int(data_pd.shape[0] * 0.8)\n",
        "\n",
        "scaler = MinMaxScaler(feature_range=(-1, 1))\n",
        "scaler.fit(data_pd[:split_boundary])\n",
        "data_transform = scaler.transform(data_pd)\n",
        "\n",
        "# data_transform"
      ]
    },
    {
      "cell_type": "markdown",
      "metadata": {
        "collapsed": false,
        "id": "tFgXdxgr9ye7"
      },
      "source": [
        "### Set up a time slide window, we use the data of the first 5 days to predict the data of the next day"
      ]
    },
    {
      "cell_type": "code",
      "execution_count": null,
      "metadata": {
        "id": "FlYqdZdg9ye7",
        "outputId": "640b0f34-210e-4d3c-b91b-4e9aafb382d2"
      },
      "outputs": [
        {
          "name": "stdout",
          "output_type": "stream",
          "text": [
            "Training input shape:  (5124, 6, 4)\n"
          ]
        }
      ],
      "source": [
        "sequence_length = 5\n",
        "delay = 1\n",
        "# Generated training sequences for use in the model.\n",
        "def create_sequences(values, time_steps=sequence_length+delay):\n",
        "    output = []\n",
        "    for i in range(len(values) - time_steps):\n",
        "        output.append(values[i : (i + time_steps)])\n",
        "    return np.stack(output)\n",
        "\n",
        "data = create_sequences(data_transform)\n",
        "print(\"Training input shape: \", data.shape)"
      ]
    },
    {
      "cell_type": "markdown",
      "metadata": {
        "collapsed": false,
        "id": "UL1t9GD69ye7"
      },
      "source": [
        "### Divide the training set and test set\n",
        "\n"
      ]
    },
    {
      "cell_type": "code",
      "execution_count": null,
      "metadata": {
        "id": "YygQOpKB9ye7",
        "outputId": "d39e4652-d7d3-4fc3-9e65-fc75c668aa1f"
      },
      "outputs": [
        {
          "data": {
            "text/plain": [
              "((4104, 6, 4), (1020, 6, 4))"
            ]
          },
          "execution_count": 54,
          "metadata": {},
          "output_type": "execute_result"
        }
      ],
      "source": [
        "train = data[: split_boundary]\n",
        "test = data[split_boundary:]\n",
        "\n",
        "train.shape,test.shape"
      ]
    },
    {
      "cell_type": "markdown",
      "metadata": {
        "collapsed": false,
        "id": "AB9GLnd29ye8"
      },
      "source": [
        "### batch"
      ]
    },
    {
      "cell_type": "code",
      "execution_count": null,
      "metadata": {
        "id": "JJ71g1jO9ye8"
      },
      "outputs": [],
      "source": [
        "def switch_reader(is_val: bool = False):\n",
        "    def reader():\n",
        "      \n",
        "        if is_val:\n",
        "\n",
        "            for te in test:\n",
        "                yield te[:sequence_length],te[-1:][:,0]\n",
        "        else:\n",
        "\n",
        "            for tr in train:\n",
        "                yield tr[:sequence_length],tr[-1:][:,0]\n",
        "        \n",
        "    return reader   "
      ]
    },
    {
      "cell_type": "markdown",
      "metadata": {
        "collapsed": false,
        "id": "zt-AkObo9ye8"
      },
      "source": [
        "#### batch"
      ]
    },
    {
      "cell_type": "code",
      "execution_count": null,
      "metadata": {
        "id": "Kgsour1d9ye8",
        "outputId": "d9ddd81e-4ec0-4eac-ade2-e060df159678"
      },
      "outputs": [
        {
          "name": "stdout",
          "output_type": "stream",
          "text": [
            "(128, 5, 4) (128, 1)\n",
            "(128, 5, 4) (128, 1)\n",
            "(128, 5, 4) (128, 1)\n",
            "(128, 5, 4) (128, 1)\n",
            "(128, 5, 4) (128, 1)\n",
            "(128, 5, 4) (128, 1)\n",
            "(128, 5, 4) (128, 1)\n",
            "(128, 5, 4) (128, 1)\n",
            "(128, 5, 4) (128, 1)\n",
            "(128, 5, 4) (128, 1)\n",
            "(128, 5, 4) (128, 1)\n",
            "(128, 5, 4) (128, 1)\n",
            "(128, 5, 4) (128, 1)\n",
            "(128, 5, 4) (128, 1)\n",
            "(128, 5, 4) (128, 1)\n",
            "(128, 5, 4) (128, 1)\n",
            "(128, 5, 4) (128, 1)\n",
            "(128, 5, 4) (128, 1)\n",
            "(128, 5, 4) (128, 1)\n",
            "(128, 5, 4) (128, 1)\n",
            "(128, 5, 4) (128, 1)\n",
            "(128, 5, 4) (128, 1)\n",
            "(128, 5, 4) (128, 1)\n",
            "(128, 5, 4) (128, 1)\n",
            "(128, 5, 4) (128, 1)\n",
            "(128, 5, 4) (128, 1)\n",
            "(128, 5, 4) (128, 1)\n",
            "(128, 5, 4) (128, 1)\n",
            "(128, 5, 4) (128, 1)\n",
            "(128, 5, 4) (128, 1)\n",
            "(128, 5, 4) (128, 1)\n",
            "(128, 5, 4) (128, 1)\n",
            "(8, 5, 4) (8, 1)\n"
          ]
        }
      ],
      "source": [
        "batch_size = 128\n",
        "train_reader = fluid.io.batch(reader=switch_reader(), batch_size=batch_size)\n",
        "val_reader = fluid.io.batch(reader=switch_reader(is_val=True), batch_size=batch_size)\n",
        "for data in train_reader():\n",
        "    # print(data[0].shape,data[1].shape)\n",
        "    train_x=np.array([x[0] for x in data],np.float32)\n",
        "    train_y = np.array([x[1] for x in data]).astype('int64')\n",
        "    print(train_x.shape,train_y.shape)"
      ]
    },
    {
      "cell_type": "markdown",
      "metadata": {
        "collapsed": false,
        "id": "mqXlBNmH9ye8"
      },
      "source": [
        "## DNN"
      ]
    },
    {
      "cell_type": "markdown",
      "metadata": {
        "collapsed": false,
        "id": "soiGUbxd9ye9"
      },
      "source": [
        "### define DNN"
      ]
    },
    {
      "cell_type": "code",
      "execution_count": null,
      "metadata": {
        "id": "c-EAzVmm9ye9"
      },
      "outputs": [],
      "source": [
        "class MyDNNModel(fluid.dygraph.Layer):\n",
        "    '''\n",
        "    DNN网络\n",
        "    '''\n",
        "    def __init__(self):\n",
        "        super(MyDNNModel,self).__init__()\n",
        "        self.fc1=fluid.dygraph.Linear(5*4,10,act='relu')\n",
        "        self.fc2=fluid.dygraph.Linear(10,1)\n",
        "        \n",
        "    def forward(self,input):        \n",
        "        '''前向计算'''\n",
        "       \n",
        "        input =fluid.layers.reshape(input,shape=[-1,5*4])\n",
        "        out=self.fc1(input)\n",
        "        out=self.fc2(out)\n",
        "        # print(out.shape)\n",
        "        return out"
      ]
    },
    {
      "cell_type": "markdown",
      "metadata": {
        "collapsed": false,
        "id": "sIDcLKHh9ye9"
      },
      "source": [
        "### Loss plotting function\n",
        "\n"
      ]
    },
    {
      "cell_type": "code",
      "execution_count": null,
      "metadata": {
        "id": "ZVB1P95I9ye9"
      },
      "outputs": [],
      "source": [
        "def draw_train_loss(Batchs, train_loss,eval_loss, label=\"\"):\n",
        "    # print(len(Batchs), len(train_loss), len(eval_loss))\n",
        "    plt.figure(figsize=(10, 6))\n",
        "    title= label + \" training-eval loss\"\n",
        "    plt.title(title, fontsize=24)\n",
        "    plt.xlabel(\"batch\", fontsize=14)\n",
        "    plt.ylabel(\"loss\", fontsize=14)\n",
        "    plt.plot(Batchs, train_loss, color='red', label='training loss')\n",
        "    plt.plot(Batchs, eval_loss, color='g', label='eval loss')\n",
        "    plt.legend()\n",
        "    plt.grid()\n",
        "    plt.savefig('./img/'+ label + '_loss.png', dpi=300)\n",
        "    plt.show()\n",
        "\n",
        "    # print(Batchs, train_loss)"
      ]
    },
    {
      "cell_type": "markdown",
      "metadata": {
        "collapsed": false,
        "id": "VUX1q0dY9ye9"
      },
      "source": [
        "### training "
      ]
    },
    {
      "cell_type": "code",
      "execution_count": null,
      "metadata": {
        "id": "BN-ktN-C9ye9",
        "outputId": "7e2e3b2d-923b-443d-919d-931d1cdd2d93"
      },
      "outputs": [
        {
          "name": "stdout",
          "output_type": "stream",
          "text": [
            "epoch:0,batch_id:10,train_loss:[0.01952308],eval_loss:0.01870791179438432\n",
            "epoch:1,batch_id:10,train_loss:[0.01750821],eval_loss:0.01677239468942086\n",
            "epoch:2,batch_id:10,train_loss:[0.01564891],eval_loss:0.014983377885073423\n",
            "epoch:3,batch_id:10,train_loss:[0.0139363],eval_loss:0.013334243403126797\n",
            "epoch:4,batch_id:10,train_loss:[0.0123716],eval_loss:0.011824272417773804\n",
            "epoch:5,batch_id:10,train_loss:[0.01095283],eval_loss:0.01045409201954802\n",
            "epoch:6,batch_id:10,train_loss:[0.00967765],eval_loss:0.009221728891134262\n",
            "epoch:7,batch_id:10,train_loss:[0.00854252],eval_loss:0.008123515096182624\n",
            "epoch:8,batch_id:10,train_loss:[0.00753426],eval_loss:0.007150782970711589\n",
            "epoch:9,batch_id:10,train_loss:[0.00664602],eval_loss:0.006299050835271676\n",
            "epoch:10,batch_id:10,train_loss:[0.00587446],eval_loss:0.005559576054414113\n",
            "epoch:11,batch_id:10,train_loss:[0.00520018],eval_loss:0.004915598081424832\n",
            "epoch:12,batch_id:10,train_loss:[0.00460567],eval_loss:0.004347955225966871\n",
            "epoch:13,batch_id:10,train_loss:[0.00407639],eval_loss:0.0038450557428101697\n",
            "epoch:14,batch_id:10,train_loss:[0.00360428],eval_loss:0.0033987074081475535\n",
            "epoch:15,batch_id:10,train_loss:[0.00318524],eval_loss:0.003003242348010341\n",
            "epoch:16,batch_id:10,train_loss:[0.00281366],eval_loss:0.0026535658398643136\n",
            "epoch:17,batch_id:10,train_loss:[0.00248531],eval_loss:0.0023452444778134427\n",
            "epoch:18,batch_id:10,train_loss:[0.00219594],eval_loss:0.0020738504244945943\n",
            "epoch:19,batch_id:10,train_loss:[0.00194155],eval_loss:0.0018352012654456\n",
            "epoch:20,batch_id:10,train_loss:[0.00171926],eval_loss:0.0016263493259126942\n",
            "epoch:21,batch_id:10,train_loss:[0.00152628],eval_loss:0.0014449154065611463\n",
            "epoch:22,batch_id:10,train_loss:[0.00136014],eval_loss:0.0012887096187720697\n",
            "epoch:23,batch_id:10,train_loss:[0.00121864],eval_loss:0.0011556613123199593\n",
            "epoch:24,batch_id:10,train_loss:[0.00109961],eval_loss:0.0010436684436475236\n",
            "epoch:25,batch_id:10,train_loss:[0.00100103],eval_loss:0.0009507689877257993\n",
            "epoch:26,batch_id:10,train_loss:[0.00092102],eval_loss:0.0008750543347559869\n",
            "epoch:27,batch_id:10,train_loss:[0.00085773],eval_loss:0.0008148032259972146\n",
            "epoch:28,batch_id:10,train_loss:[0.00080952],eval_loss:0.0007683895237278193\n",
            "epoch:29,batch_id:10,train_loss:[0.00077453],eval_loss:0.0007340439672892293\n",
            "epoch:30,batch_id:10,train_loss:[0.00075104],eval_loss:0.0007103929043902705\n",
            "epoch:31,batch_id:10,train_loss:[0.00073769],eval_loss:0.0006961131293792278\n",
            "epoch:32,batch_id:10,train_loss:[0.00073313],eval_loss:0.0006898708622126529\n",
            "epoch:33,batch_id:10,train_loss:[0.00073609],eval_loss:0.000690331895990918\n",
            "epoch:34,batch_id:10,train_loss:[0.00074529],eval_loss:0.0006964691953423122\n",
            "epoch:35,batch_id:10,train_loss:[0.00075965],eval_loss:0.0007072909502312541\n",
            "epoch:36,batch_id:10,train_loss:[0.00077826],eval_loss:0.000721788169660916\n",
            "epoch:37,batch_id:10,train_loss:[0.00080003],eval_loss:0.0007392701615268985\n",
            "epoch:38,batch_id:10,train_loss:[0.00082422],eval_loss:0.0007590722913543383\n",
            "epoch:39,batch_id:10,train_loss:[0.00084991],eval_loss:0.0007805599792239567\n",
            "epoch:40,batch_id:10,train_loss:[0.00087669],eval_loss:0.0008032002563898762\n",
            "epoch:41,batch_id:10,train_loss:[0.0009041],eval_loss:0.0008265563519671559\n",
            "epoch:42,batch_id:10,train_loss:[0.00093172],eval_loss:0.0008501775252322356\n",
            "epoch:43,batch_id:10,train_loss:[0.00095909],eval_loss:0.0008737507547872762\n",
            "epoch:44,batch_id:10,train_loss:[0.00098585],eval_loss:0.0008969155993933479\n",
            "epoch:45,batch_id:10,train_loss:[0.00101187],eval_loss:0.0009193962129453818\n",
            "epoch:46,batch_id:10,train_loss:[0.00103677],eval_loss:0.0009409670407573382\n",
            "epoch:47,batch_id:10,train_loss:[0.00106039],eval_loss:0.0009615717766185602\n",
            "epoch:48,batch_id:10,train_loss:[0.00108274],eval_loss:0.0009811020378644268\n",
            "epoch:49,batch_id:10,train_loss:[0.00110376],eval_loss:0.0009995315340347588\n",
            "epoch:50,batch_id:10,train_loss:[0.00112347],eval_loss:0.0010168082856883605\n",
            "epoch:51,batch_id:10,train_loss:[0.00114191],eval_loss:0.0010328993278866012\n",
            "epoch:52,batch_id:10,train_loss:[0.00115889],eval_loss:0.0010477425530552864\n",
            "epoch:53,batch_id:10,train_loss:[0.00117446],eval_loss:0.0010613780080651243\n",
            "epoch:54,batch_id:10,train_loss:[0.00118863],eval_loss:0.001073821777633081\n",
            "epoch:55,batch_id:10,train_loss:[0.00120143],eval_loss:0.0010851047118194401\n",
            "epoch:56,batch_id:10,train_loss:[0.00121298],eval_loss:0.0010952539547967415\n",
            "epoch:57,batch_id:10,train_loss:[0.0012233],eval_loss:0.0011043320798004668\n",
            "epoch:58,batch_id:10,train_loss:[0.00123254],eval_loss:0.0011123439180664718\n",
            "epoch:59,batch_id:10,train_loss:[0.00124077],eval_loss:0.0011193576695707936\n",
            "epoch:60,batch_id:10,train_loss:[0.00124802],eval_loss:0.0011254257212082546\n",
            "epoch:61,batch_id:10,train_loss:[0.00125435],eval_loss:0.0011306071537546813\n",
            "epoch:62,batch_id:10,train_loss:[0.00125984],eval_loss:0.0011349700313682358\n",
            "epoch:63,batch_id:10,train_loss:[0.00126447],eval_loss:0.0011385606873470049\n",
            "epoch:64,batch_id:10,train_loss:[0.00126835],eval_loss:0.0011414415009009342\n",
            "epoch:65,batch_id:10,train_loss:[0.00127156],eval_loss:0.0011436493950895965\n",
            "epoch:66,batch_id:10,train_loss:[0.00127414],eval_loss:0.0011452347195396821\n",
            "epoch:67,batch_id:10,train_loss:[0.00127615],eval_loss:0.0011462469507629673\n",
            "epoch:68,batch_id:10,train_loss:[0.00127762],eval_loss:0.0011467249908794959\n",
            "epoch:69,batch_id:10,train_loss:[0.00127858],eval_loss:0.0011467255341509979\n",
            "epoch:70,batch_id:10,train_loss:[0.00127907],eval_loss:0.0011462917706618707\n",
            "epoch:71,batch_id:10,train_loss:[0.00127913],eval_loss:0.001145456451922655\n",
            "epoch:72,batch_id:10,train_loss:[0.00127881],eval_loss:0.0011442529891307156\n",
            "epoch:73,batch_id:10,train_loss:[0.00127814],eval_loss:0.0011427159964417417\n",
            "epoch:74,batch_id:10,train_loss:[0.00127716],eval_loss:0.001140883444653203\n",
            "epoch:75,batch_id:10,train_loss:[0.00127588],eval_loss:0.001138781236174206\n",
            "epoch:76,batch_id:10,train_loss:[0.00127433],eval_loss:0.0011364426657867928\n",
            "epoch:77,batch_id:10,train_loss:[0.00127253],eval_loss:0.0011338866509807606\n",
            "epoch:78,batch_id:10,train_loss:[0.00127049],eval_loss:0.001131131643584619\n",
            "epoch:79,batch_id:10,train_loss:[0.00126824],eval_loss:0.0011281986565639575\n",
            "epoch:80,batch_id:10,train_loss:[0.0012658],eval_loss:0.0011251029015208285\n",
            "epoch:81,batch_id:10,train_loss:[0.00126318],eval_loss:0.0011218605407824118\n",
            "epoch:82,batch_id:10,train_loss:[0.00126043],eval_loss:0.0011184830800630152\n",
            "epoch:83,batch_id:10,train_loss:[0.00125754],eval_loss:0.0011149804534701009\n",
            "epoch:84,batch_id:10,train_loss:[0.00125453],eval_loss:0.001111368202449133\n",
            "epoch:85,batch_id:10,train_loss:[0.00125142],eval_loss:0.0011076598893851042\n",
            "epoch:86,batch_id:10,train_loss:[0.00124822],eval_loss:0.0011038673692382872\n",
            "epoch:87,batch_id:10,train_loss:[0.00124492],eval_loss:0.0010999932419508696\n",
            "epoch:88,batch_id:10,train_loss:[0.00124153],eval_loss:0.001096050487831235\n",
            "epoch:89,batch_id:10,train_loss:[0.00123807],eval_loss:0.0010920423083007336\n",
            "epoch:90,batch_id:10,train_loss:[0.00123453],eval_loss:0.00108796792725722\n",
            "epoch:91,batch_id:10,train_loss:[0.00123093],eval_loss:0.0010838330684540172\n",
            "epoch:92,batch_id:10,train_loss:[0.00122728],eval_loss:0.001079647821219017\n",
            "epoch:93,batch_id:10,train_loss:[0.00122357],eval_loss:0.0010754135631335278\n",
            "epoch:94,batch_id:10,train_loss:[0.00121983],eval_loss:0.001071140228305012\n",
            "epoch:95,batch_id:10,train_loss:[0.00121604],eval_loss:0.001066831755451858\n",
            "epoch:96,batch_id:10,train_loss:[0.00121222],eval_loss:0.001062486049098273\n",
            "epoch:97,batch_id:10,train_loss:[0.00120836],eval_loss:0.001058113994076848\n",
            "epoch:98,batch_id:10,train_loss:[0.00120446],eval_loss:0.0010537025906766455\n",
            "epoch:99,batch_id:10,train_loss:[0.00120052],eval_loss:0.0010492642177268863\n",
            "epoch:100,batch_id:10,train_loss:[0.00119655],eval_loss:0.0010448036288532119\n",
            "epoch:101,batch_id:10,train_loss:[0.00119256],eval_loss:0.0010403222016369302\n",
            "epoch:102,batch_id:10,train_loss:[0.00118854],eval_loss:0.001035818791327377\n",
            "epoch:103,batch_id:10,train_loss:[0.00118449],eval_loss:0.001031298190355301\n",
            "epoch:104,batch_id:10,train_loss:[0.00118041],eval_loss:0.0010267629016501207\n",
            "epoch:105,batch_id:10,train_loss:[0.00117632],eval_loss:0.001022222141424815\n",
            "epoch:106,batch_id:10,train_loss:[0.00117221],eval_loss:0.0010176726694529255\n",
            "epoch:107,batch_id:10,train_loss:[0.00116809],eval_loss:0.0010131075784253578\n",
            "epoch:108,batch_id:10,train_loss:[0.00116396],eval_loss:0.0010085216102500756\n",
            "epoch:109,batch_id:10,train_loss:[0.00115983],eval_loss:0.0010039247184370954\n",
            "epoch:110,batch_id:10,train_loss:[0.00115568],eval_loss:0.0009993188044366736\n",
            "epoch:111,batch_id:10,train_loss:[0.00115152],eval_loss:0.0009946982997159164\n",
            "epoch:112,batch_id:10,train_loss:[0.00114735],eval_loss:0.0009900708100758493\n",
            "epoch:113,batch_id:10,train_loss:[0.00114317],eval_loss:0.0009854359474654\n",
            "epoch:114,batch_id:10,train_loss:[0.00113898],eval_loss:0.0009807930133926372\n",
            "epoch:115,batch_id:10,train_loss:[0.00113479],eval_loss:0.0009761397183562318\n",
            "epoch:116,batch_id:10,train_loss:[0.00113059],eval_loss:0.0009714714639509717\n",
            "epoch:117,batch_id:10,train_loss:[0.00112638],eval_loss:0.0009667969037157794\n",
            "epoch:118,batch_id:10,train_loss:[0.00112215],eval_loss:0.00096211446604381\n",
            "epoch:119,batch_id:10,train_loss:[0.00111793],eval_loss:0.0009574232390150428\n",
            "epoch:120,batch_id:10,train_loss:[0.00111371],eval_loss:0.0009527291792134444\n",
            "epoch:121,batch_id:10,train_loss:[0.00110948],eval_loss:0.0009480201794455448\n",
            "epoch:122,batch_id:10,train_loss:[0.00110525],eval_loss:0.0009433097632912298\n",
            "epoch:123,batch_id:10,train_loss:[0.00110101],eval_loss:0.0009385966307794055\n",
            "epoch:124,batch_id:10,train_loss:[0.00109677],eval_loss:0.0009338843325773875\n",
            "epoch:125,batch_id:10,train_loss:[0.00109253],eval_loss:0.0009291724612315496\n",
            "epoch:126,batch_id:10,train_loss:[0.00108829],eval_loss:0.0009244605122754971\n",
            "epoch:127,batch_id:10,train_loss:[0.00108404],eval_loss:0.0009197492036037147\n",
            "epoch:128,batch_id:10,train_loss:[0.00107979],eval_loss:0.0009150334711497029\n",
            "epoch:129,batch_id:10,train_loss:[0.00107552],eval_loss:0.0009103096866359314\n",
            "epoch:130,batch_id:10,train_loss:[0.00107124],eval_loss:0.0009055749784844617\n",
            "epoch:131,batch_id:10,train_loss:[0.00106697],eval_loss:0.0009008403673457602\n",
            "epoch:132,batch_id:10,train_loss:[0.0010627],eval_loss:0.0008961039517695705\n",
            "epoch:133,batch_id:10,train_loss:[0.00105844],eval_loss:0.0008913745793203512\n",
            "epoch:134,batch_id:10,train_loss:[0.00105419],eval_loss:0.0008866394055075943\n",
            "epoch:135,batch_id:10,train_loss:[0.00104994],eval_loss:0.0008818982169032097\n",
            "epoch:136,batch_id:10,train_loss:[0.00104569],eval_loss:0.0008771513433506092\n",
            "epoch:137,batch_id:10,train_loss:[0.00104144],eval_loss:0.0008724070697401961\n",
            "epoch:138,batch_id:10,train_loss:[0.00103719],eval_loss:0.0008676636692446967\n",
            "epoch:139,batch_id:10,train_loss:[0.00103295],eval_loss:0.0008629131674145659\n",
            "epoch:140,batch_id:10,train_loss:[0.0010287],eval_loss:0.0008581670117564499\n",
            "epoch:141,batch_id:10,train_loss:[0.00102445],eval_loss:0.0008534224471077323\n",
            "epoch:142,batch_id:10,train_loss:[0.00102022],eval_loss:0.0008486806182190776\n",
            "epoch:143,batch_id:10,train_loss:[0.001016],eval_loss:0.0008439434071381887\n",
            "epoch:144,batch_id:10,train_loss:[0.00101179],eval_loss:0.0008392060796419779\n",
            "epoch:145,batch_id:10,train_loss:[0.00100756],eval_loss:0.0008344772310617069\n",
            "epoch:146,batch_id:10,train_loss:[0.00100333],eval_loss:0.000829748964558045\n",
            "epoch:147,batch_id:10,train_loss:[0.00099911],eval_loss:0.0008250166623232266\n",
            "epoch:148,batch_id:10,train_loss:[0.00099489],eval_loss:0.0008202902972698212\n",
            "epoch:149,batch_id:10,train_loss:[0.00099068],eval_loss:0.0008155756901639203\n",
            "epoch:150,batch_id:10,train_loss:[0.00098646],eval_loss:0.0008108668650190035\n",
            "epoch:151,batch_id:10,train_loss:[0.00098226],eval_loss:0.0008061605816086134\n",
            "epoch:152,batch_id:10,train_loss:[0.00097805],eval_loss:0.0008014530564347903\n",
            "epoch:153,batch_id:10,train_loss:[0.00097386],eval_loss:0.0007967533310875297\n",
            "epoch:154,batch_id:10,train_loss:[0.00096966],eval_loss:0.0007920613667617241\n",
            "epoch:155,batch_id:10,train_loss:[0.00096546],eval_loss:0.0007873766977960864\n",
            "epoch:156,batch_id:10,train_loss:[0.00096126],eval_loss:0.0007826989749446511\n",
            "epoch:157,batch_id:10,train_loss:[0.00095707],eval_loss:0.0007780169641288618\n",
            "epoch:158,batch_id:10,train_loss:[0.00095287],eval_loss:0.0007733322757606705\n",
            "epoch:159,batch_id:10,train_loss:[0.00094868],eval_loss:0.0007686497992835939\n",
            "epoch:160,batch_id:10,train_loss:[0.00094448],eval_loss:0.0007639721152372658\n",
            "epoch:161,batch_id:10,train_loss:[0.00094028],eval_loss:0.0007593041324677566\n",
            "epoch:162,batch_id:10,train_loss:[0.00093611],eval_loss:0.0007546453271061182\n",
            "epoch:163,batch_id:10,train_loss:[0.00093194],eval_loss:0.0007499853381887078\n",
            "epoch:164,batch_id:10,train_loss:[0.00092778],eval_loss:0.0007453300252867242\n",
            "epoch:165,batch_id:10,train_loss:[0.00092362],eval_loss:0.0007406838315849503\n",
            "epoch:166,batch_id:10,train_loss:[0.00091947],eval_loss:0.0007360496480638782\n",
            "epoch:167,batch_id:10,train_loss:[0.00091532],eval_loss:0.0007314271060749888\n",
            "epoch:168,batch_id:10,train_loss:[0.00091119],eval_loss:0.0007268087356351316\n",
            "epoch:169,batch_id:10,train_loss:[0.00090707],eval_loss:0.0007222058484330773\n",
            "epoch:170,batch_id:10,train_loss:[0.00090297],eval_loss:0.0007176294457167387\n",
            "epoch:171,batch_id:10,train_loss:[0.0008989],eval_loss:0.0007130756081702808\n",
            "epoch:172,batch_id:10,train_loss:[0.00089484],eval_loss:0.0007085320345746974\n",
            "epoch:173,batch_id:10,train_loss:[0.0008908],eval_loss:0.0007040050501624743\n",
            "epoch:174,batch_id:10,train_loss:[0.00088675],eval_loss:0.0006994910460586349\n",
            "epoch:175,batch_id:10,train_loss:[0.00088271],eval_loss:0.0006950007324727873\n",
            "epoch:176,batch_id:10,train_loss:[0.00087869],eval_loss:0.0006905312863333771\n",
            "epoch:177,batch_id:10,train_loss:[0.00087468],eval_loss:0.0006860829598736018\n",
            "epoch:178,batch_id:10,train_loss:[0.00087067],eval_loss:0.0006816522121274223\n",
            "epoch:179,batch_id:10,train_loss:[0.00086668],eval_loss:0.000677235705855613\n",
            "epoch:180,batch_id:10,train_loss:[0.0008627],eval_loss:0.0006728296866640449\n",
            "epoch:181,batch_id:10,train_loss:[0.00085873],eval_loss:0.0006684490072075278\n",
            "epoch:182,batch_id:10,train_loss:[0.00085478],eval_loss:0.0006640994009406617\n",
            "epoch:183,batch_id:10,train_loss:[0.00085086],eval_loss:0.000659770070342347\n",
            "epoch:184,batch_id:10,train_loss:[0.00084696],eval_loss:0.0006554656526229034\n",
            "epoch:185,batch_id:10,train_loss:[0.00084309],eval_loss:0.0006511901932147642\n",
            "epoch:186,batch_id:10,train_loss:[0.00083926],eval_loss:0.0006469470681622624\n",
            "epoch:187,batch_id:10,train_loss:[0.00083547],eval_loss:0.0006427357147913426\n",
            "epoch:188,batch_id:10,train_loss:[0.0008317],eval_loss:0.0006385607121046633\n",
            "epoch:189,batch_id:10,train_loss:[0.00082796],eval_loss:0.000634433546413978\n",
            "epoch:190,batch_id:10,train_loss:[0.00082426],eval_loss:0.0006303602131083608\n",
            "epoch:191,batch_id:10,train_loss:[0.00082061],eval_loss:0.0006263428658712655\n",
            "epoch:192,batch_id:10,train_loss:[0.00081701],eval_loss:0.0006223896634764969\n",
            "epoch:193,batch_id:10,train_loss:[0.00081348],eval_loss:0.0006185064654952536\n",
            "epoch:194,batch_id:10,train_loss:[0.00081002],eval_loss:0.0006146971912433704\n",
            "epoch:195,batch_id:10,train_loss:[0.00080664],eval_loss:0.000610976159805432\n",
            "epoch:196,batch_id:10,train_loss:[0.00080333],eval_loss:0.0006073508508658657\n",
            "epoch:197,batch_id:10,train_loss:[0.00080011],eval_loss:0.0006038243688332537\n",
            "epoch:198,batch_id:10,train_loss:[0.00079698],eval_loss:0.0006004076082414637\n",
            "epoch:199,batch_id:10,train_loss:[0.00079395],eval_loss:0.0005971040712514272\n",
            "Final loss: [0.00079395]\n"
          ]
        },
        {
          "data": {
            "image/png": "[encoded data removed]",
            "text/plain": [
              "<Figure size 720x432 with 1 Axes>"
            ]
          },
          "metadata": {},
          "output_type": "display_data"
        }
      ],
      "source": [
        "with fluid.dygraph.guard(place):\n",
        "    model=MyDNNModel() \n",
        "    model.train() \n",
        "    # opt=fluid.optimizer.SGDOptimizer(learning_rate=train_parameters['learning_strategy']['lr'], parameter_list=model.parameters())\n",
        "    opt=fluid.optimizer.AdamOptimizer(learning_rate=0.0001, parameter_list=model.parameters()) \n",
        "    epochs_num=200\n",
        "    batch_size = 128 * 3\n",
        "    train_reader = fluid.io.batch(reader=switch_reader(), batch_size=batch_size)\n",
        "    val_reader = fluid.io.batch(reader=switch_reader(is_val=True), batch_size=batch_size)\n",
        "    Batch=0\n",
        "    Batchs=[]\n",
        "    all_train_loss=[]\n",
        "    all_eval_loss=[]\n",
        "    for pass_num in range(epochs_num):\n",
        "        for batch_id, data in enumerate(train_reader()): \n",
        "            data_x=np.array([x[0] for x in data],np.float32)\n",
        "            data_y = np.array([x[1] for x in data]).astype('float32')\n",
        "            data_x = fluid.dygraph.to_variable(data_x)\n",
        "            data_y = fluid.dygraph.to_variable(data_y)\n",
        "        \n",
        "            # print(data_x.shape, data_y.shape)\n",
        "\n",
        "            predict=model(data_x)\n",
        "            # print(predict.shape)\n",
        "            loss=fluid.layers.mse_loss(predict,data_y)\n",
        "            avg_loss=fluid.layers.mean(loss)\n",
        "            avg_loss.backward()       \n",
        "            opt.minimize(avg_loss)   \n",
        "            model.clear_gradients()  \n",
        "            if batch_id!=0 and batch_id%10==0:\n",
        "                Batch = Batch+10\n",
        "                Batchs.append(Batch)\n",
        "                all_train_loss.append(avg_loss.numpy()[0])\n",
        "                evalavg_loss=[]\n",
        "                for eval_data in val_reader():\n",
        "                    eval_data_x = np.array([x[0] for x in eval_data],np.float32)\n",
        "                    eval_data_y = np.array([x[1] for x in eval_data]).astype('float32')\n",
        "\n",
        "                    eval_data_x = fluid.dygraph.to_variable(eval_data_x)\n",
        "                    eval_data_y = fluid.dygraph.to_variable(eval_data_y)\n",
        "\n",
        "                    eval_predict=model(eval_data_x)\n",
        "                    eval_loss=fluid.layers.mse_loss(eval_predict,eval_data_y)\n",
        "                    eval_loss=fluid.layers.mean(eval_loss)\n",
        "                    evalavg_loss.append(eval_loss.numpy()[0])\n",
        "                all_eval_loss.append(sum(evalavg_loss)/len(evalavg_loss))\n",
        "        print(\"epoch:{},batch_id:{},train_loss:{},eval_loss:{}\".format(pass_num,batch_id,avg_loss.numpy(),sum(evalavg_loss)/len(evalavg_loss)))     \n",
        "\n",
        "    fluid.save_dygraph(model.state_dict(),'./model/MyDNNModel')\n",
        "    fluid.save_dygraph(opt.state_dict(),'./model/MyDNNModel')\n",
        "    print(\"Final loss: {}\".format(avg_loss.numpy()))    \n",
        "\n",
        "draw_train_loss(Batchs,all_train_loss,all_eval_loss, 'DNN')"
      ]
    },
    {
      "cell_type": "markdown",
      "metadata": {
        "collapsed": false,
        "id": "weTbiHXQ9ye-"
      },
      "source": [
        "## LSTM"
      ]
    },
    {
      "cell_type": "markdown",
      "metadata": {
        "collapsed": false,
        "id": "iudsEUq-9ye-"
      },
      "source": [
        "### define LSTM\n"
      ]
    },
    {
      "cell_type": "code",
      "execution_count": null,
      "metadata": {
        "id": "I95hIdsf9ye-"
      },
      "outputs": [],
      "source": [
        "import paddle.fluid as fluid\n",
        "class MyLSTMModel(fluid.dygraph.Layer):\n",
        " \n",
        "    def __init__(self):\n",
        "        super(MyLSTMModel,self).__init__()\n",
        "        self.rnn = paddle.nn.LSTM(4, 20, 2)\n",
        "        self.flatten = paddle.nn.Flatten()\n",
        "        self.fc1=fluid.dygraph.Linear(5*20,10)\n",
        "        self.fc2=fluid.dygraph.Linear(10,1)\n",
        "\n",
        "        \n",
        "    def forward(self,input):        \n",
        "        \n",
        "        # print('input',input.shape)\n",
        "        out, (h, c)=self.rnn(input)\n",
        "        out =self.flatten(out)\n",
        "        out=self.fc1(out)\n",
        "        out=self.fc2(out)\n",
        "        return out"
      ]
    },
    {
      "cell_type": "markdown",
      "metadata": {
        "collapsed": false,
        "id": "tkKZOHEG9ye-"
      },
      "source": [
        "### training "
      ]
    },
    {
      "cell_type": "code",
      "execution_count": null,
      "metadata": {
        "id": "RuCB-QBK9ye_",
        "outputId": "1c92911b-fd94-4990-946e-03913e77662d"
      },
      "outputs": [
        {
          "name": "stdout",
          "output_type": "stream",
          "text": [
            "epoch:0,batch_id:10,train_loss:[0.01361275],eval_loss:0.02257246244698763\n",
            "epoch:1,batch_id:10,train_loss:[0.07703531],eval_loss:0.05712037657697996\n",
            "epoch:2,batch_id:10,train_loss:[0.01176795],eval_loss:0.02054892232020696\n",
            "epoch:3,batch_id:10,train_loss:[0.00269285],eval_loss:0.0015266626918067534\n",
            "epoch:4,batch_id:10,train_loss:[0.00181504],eval_loss:0.0017056632398938139\n",
            "epoch:5,batch_id:10,train_loss:[0.0031247],eval_loss:0.001436287226776282\n",
            "epoch:6,batch_id:10,train_loss:[0.00093001],eval_loss:0.0006579701439477503\n",
            "epoch:7,batch_id:10,train_loss:[0.00105162],eval_loss:0.0013829594245180488\n",
            "epoch:8,batch_id:10,train_loss:[0.00452445],eval_loss:0.006132860668003559\n",
            "epoch:9,batch_id:10,train_loss:[0.00180459],eval_loss:0.00112524488940835\n",
            "epoch:10,batch_id:10,train_loss:[0.00086761],eval_loss:0.0012881977211994429\n",
            "epoch:11,batch_id:10,train_loss:[0.00082518],eval_loss:0.0006624077310940871\n",
            "epoch:12,batch_id:10,train_loss:[0.00091848],eval_loss:0.0009353027562610805\n",
            "epoch:13,batch_id:10,train_loss:[0.00424617],eval_loss:0.0038703531802942357\n",
            "epoch:14,batch_id:10,train_loss:[0.00084583],eval_loss:0.001990712092568477\n",
            "epoch:15,batch_id:10,train_loss:[0.00087894],eval_loss:0.000846595037728548\n",
            "epoch:16,batch_id:10,train_loss:[0.00101296],eval_loss:0.0008815441591044267\n",
            "epoch:17,batch_id:10,train_loss:[0.00309741],eval_loss:0.0025929655336464443\n",
            "epoch:18,batch_id:10,train_loss:[0.00086339],eval_loss:0.0014270931715145707\n",
            "epoch:19,batch_id:10,train_loss:[0.00087965],eval_loss:0.0006804280080056438\n",
            "epoch:20,batch_id:10,train_loss:[0.00157523],eval_loss:0.001764695392921567\n",
            "epoch:21,batch_id:10,train_loss:[0.00212999],eval_loss:0.0012163359012144308\n",
            "epoch:22,batch_id:10,train_loss:[0.00084151],eval_loss:0.0010095871790933113\n",
            "epoch:23,batch_id:10,train_loss:[0.00123278],eval_loss:0.0005671791344260176\n",
            "epoch:24,batch_id:10,train_loss:[0.00162297],eval_loss:0.0007773475081194192\n",
            "epoch:25,batch_id:10,train_loss:[0.00248237],eval_loss:0.0011500168475322425\n",
            "epoch:26,batch_id:10,train_loss:[0.00081462],eval_loss:0.0011475766659714282\n",
            "epoch:27,batch_id:10,train_loss:[0.00163122],eval_loss:0.0005573148567539951\n",
            "epoch:28,batch_id:10,train_loss:[0.00168339],eval_loss:0.0009761870023794472\n",
            "epoch:29,batch_id:10,train_loss:[0.00317477],eval_loss:0.0012225920412068565\n",
            "epoch:30,batch_id:10,train_loss:[0.00113053],eval_loss:0.000739370366015161\n",
            "epoch:31,batch_id:10,train_loss:[0.00139581],eval_loss:0.000692838589505603\n",
            "epoch:32,batch_id:10,train_loss:[0.00166349],eval_loss:0.0012010633751439552\n",
            "epoch:33,batch_id:10,train_loss:[0.00259268],eval_loss:0.00116252014413476\n",
            "epoch:34,batch_id:10,train_loss:[0.00100794],eval_loss:0.0005626993855306258\n",
            "epoch:35,batch_id:10,train_loss:[0.00109509],eval_loss:0.000787707045674324\n",
            "epoch:36,batch_id:10,train_loss:[0.00098434],eval_loss:0.0007183792865059028\n",
            "epoch:37,batch_id:10,train_loss:[0.00151267],eval_loss:0.0008713896774376432\n",
            "epoch:38,batch_id:10,train_loss:[0.00078015],eval_loss:0.0006119609558178732\n",
            "epoch:39,batch_id:10,train_loss:[0.00088319],eval_loss:0.0005916018562857062\n",
            "epoch:40,batch_id:10,train_loss:[0.00088928],eval_loss:0.0005766860655664156\n",
            "epoch:41,batch_id:10,train_loss:[0.00093016],eval_loss:0.0005200582284790775\n",
            "epoch:42,batch_id:10,train_loss:[0.00076413],eval_loss:0.0005654180131386966\n",
            "epoch:43,batch_id:10,train_loss:[0.00082619],eval_loss:0.0005297637544572353\n",
            "epoch:44,batch_id:10,train_loss:[0.00080129],eval_loss:0.0005529284050377706\n",
            "epoch:45,batch_id:10,train_loss:[0.00083979],eval_loss:0.000496497368051981\n",
            "epoch:46,batch_id:10,train_loss:[0.00074874],eval_loss:0.0005248004357175281\n",
            "epoch:47,batch_id:10,train_loss:[0.00077444],eval_loss:0.0004955098168769231\n",
            "epoch:48,batch_id:10,train_loss:[0.00078785],eval_loss:0.0004892492725048214\n",
            "epoch:49,batch_id:10,train_loss:[0.00078989],eval_loss:0.0004870699388751139\n",
            "epoch:50,batch_id:10,train_loss:[0.00074215],eval_loss:0.0004959547562369456\n",
            "epoch:51,batch_id:10,train_loss:[0.00076349],eval_loss:0.0005157151511715105\n",
            "epoch:52,batch_id:10,train_loss:[0.00097732],eval_loss:0.0006949780508875847\n",
            "epoch:53,batch_id:10,train_loss:[0.00075754],eval_loss:0.0007195753860287368\n",
            "epoch:54,batch_id:10,train_loss:[0.00087523],eval_loss:0.00048024884502713877\n",
            "epoch:55,batch_id:10,train_loss:[0.00144369],eval_loss:0.0013219275861047208\n",
            "epoch:56,batch_id:10,train_loss:[0.00335862],eval_loss:0.0035041659915198884\n",
            "epoch:57,batch_id:10,train_loss:[0.00142394],eval_loss:0.0018255746302505333\n",
            "epoch:58,batch_id:10,train_loss:[0.00191593],eval_loss:0.0010744735094097753\n",
            "epoch:59,batch_id:10,train_loss:[0.00227668],eval_loss:0.0033481190524374447\n",
            "epoch:60,batch_id:10,train_loss:[0.00391345],eval_loss:0.005916488356888294\n",
            "epoch:61,batch_id:10,train_loss:[0.00324442],eval_loss:0.003367291996255517\n",
            "epoch:62,batch_id:10,train_loss:[0.00315646],eval_loss:0.00334006454795599\n",
            "epoch:63,batch_id:10,train_loss:[0.00108563],eval_loss:0.003056777330736319\n",
            "epoch:64,batch_id:10,train_loss:[0.0007073],eval_loss:0.000559821327139313\n",
            "epoch:65,batch_id:10,train_loss:[0.00270329],eval_loss:0.002359088296846797\n",
            "epoch:66,batch_id:10,train_loss:[0.00628839],eval_loss:0.008836616141100725\n",
            "epoch:67,batch_id:10,train_loss:[0.00094535],eval_loss:0.002074603457003832\n",
            "epoch:68,batch_id:10,train_loss:[0.0012175],eval_loss:0.0017047669971361756\n",
            "epoch:69,batch_id:10,train_loss:[0.00104491],eval_loss:0.0019784989999607205\n",
            "epoch:70,batch_id:10,train_loss:[0.00115884],eval_loss:0.0008049518801271915\n",
            "epoch:71,batch_id:10,train_loss:[0.001396],eval_loss:0.0005666382203344256\n",
            "epoch:72,batch_id:10,train_loss:[0.00109728],eval_loss:0.0006751868738016734\n",
            "epoch:73,batch_id:10,train_loss:[0.00095418],eval_loss:0.0011370941647328436\n",
            "epoch:74,batch_id:10,train_loss:[0.00127734],eval_loss:0.0009722078102640808\n",
            "epoch:75,batch_id:10,train_loss:[0.00130155],eval_loss:0.0007062011087934176\n",
            "epoch:76,batch_id:10,train_loss:[0.00102986],eval_loss:0.0004907012432037542\n",
            "epoch:77,batch_id:10,train_loss:[0.00076195],eval_loss:0.00045613105370042223\n",
            "epoch:78,batch_id:10,train_loss:[0.00083282],eval_loss:0.0004787631817938139\n",
            "epoch:79,batch_id:10,train_loss:[0.00078722],eval_loss:0.0004519826519147803\n",
            "epoch:80,batch_id:10,train_loss:[0.00078096],eval_loss:0.0004479311270794521\n",
            "epoch:81,batch_id:10,train_loss:[0.00072044],eval_loss:0.0004395548797522982\n",
            "epoch:82,batch_id:10,train_loss:[0.0007339],eval_loss:0.00044069670063133043\n",
            "epoch:83,batch_id:10,train_loss:[0.00073348],eval_loss:0.0004330223018769175\n",
            "epoch:84,batch_id:10,train_loss:[0.0007108],eval_loss:0.000425596105439278\n",
            "epoch:85,batch_id:10,train_loss:[0.00067659],eval_loss:0.00042267518195634085\n",
            "epoch:86,batch_id:10,train_loss:[0.00069295],eval_loss:0.0004222738352837041\n",
            "epoch:87,batch_id:10,train_loss:[0.00068375],eval_loss:0.00041880674931841594\n",
            "epoch:88,batch_id:10,train_loss:[0.00067919],eval_loss:0.00041327092427915585\n",
            "epoch:89,batch_id:10,train_loss:[0.00064283],eval_loss:0.00041765242349356413\n",
            "epoch:90,batch_id:10,train_loss:[0.00065441],eval_loss:0.00040834058017935604\n",
            "epoch:91,batch_id:10,train_loss:[0.00066078],eval_loss:0.0004043803928652778\n",
            "epoch:92,batch_id:10,train_loss:[0.00065543],eval_loss:0.00040361414236637455\n",
            "epoch:93,batch_id:10,train_loss:[0.00061593],eval_loss:0.00041695283046768356\n",
            "epoch:94,batch_id:10,train_loss:[0.00063482],eval_loss:0.0004004844377050176\n",
            "epoch:95,batch_id:10,train_loss:[0.00063286],eval_loss:0.0004010664173013841\n",
            "epoch:96,batch_id:10,train_loss:[0.00063528],eval_loss:0.0003881224207968141\n",
            "epoch:97,batch_id:10,train_loss:[0.00060516],eval_loss:0.00040616420543907833\n",
            "epoch:98,batch_id:10,train_loss:[0.00060162],eval_loss:0.0003840138524537906\n",
            "epoch:99,batch_id:10,train_loss:[0.00059576],eval_loss:0.0003870877214164163\n",
            "Final loss: [0.00059576]\n"
          ]
        },
        {
          "data": {
            "image/png": "[encoded data removed]",
            "text/plain": [
              "<Figure size 720x432 with 1 Axes>"
            ]
          },
          "metadata": {},
          "output_type": "display_data"
        }
      ],
      "source": [
        "with fluid.dygraph.guard(place):\n",
        "    model=MyLSTMModel() \n",
        "    # model=MyModel()\n",
        "    model.train() \n",
        "    # opt=fluid.optimizer.SGDOptimizer(learning_rate=0.001, parameter_list=model.parameters())\n",
        "    opt=fluid.optimizer.AdamOptimizer(learning_rate=0.01, parameter_list=model.parameters()) \n",
        "    epochs_num=100\n",
        "    batch_size = 128*3\n",
        "    train_reader = fluid.io.batch(reader=switch_reader(), batch_size=batch_size)\n",
        "    val_reader = fluid.io.batch(reader=switch_reader(is_val=True), batch_size=batch_size)\n",
        "    Batch=0\n",
        "    Batchs=[]\n",
        "    all_train_loss=[]\n",
        "    all_eval_loss=[]\n",
        "    for pass_num in range(epochs_num):\n",
        "        for batch_id, data in enumerate(train_reader()): \n",
        "            data_x=np.array([x[0] for x in data],np.float32)\n",
        "            data_y = np.array([x[1] for x in data]).astype('float32')\n",
        "            data_x = fluid.dygraph.to_variable(data_x)\n",
        "            data_y = fluid.dygraph.to_variable(data_y)\n",
        "        \n",
        "            # print(data_x.shape, data_y.shape)\n",
        "\n",
        "            predict=model(data_x)\n",
        "            # print(predict.shape)\n",
        "            loss=fluid.layers.mse_loss(predict,data_y)\n",
        "            avg_loss=fluid.layers.mean(loss)\n",
        "            avg_loss.backward()       \n",
        "            opt.minimize(avg_loss)    \n",
        "            model.clear_gradients()   \n",
        "            if batch_id!=0 and batch_id%10==0:\n",
        "                Batch = Batch+10\n",
        "                Batchs.append(Batch)\n",
        "                all_train_loss.append(avg_loss.numpy()[0])\n",
        "                evalavg_loss=[]\n",
        "                for eval_data in val_reader():\n",
        "                    eval_data_x = np.array([x[0] for x in eval_data],np.float32)\n",
        "                    eval_data_y = np.array([x[1] for x in eval_data]).astype('float32')\n",
        "\n",
        "                    eval_data_x = fluid.dygraph.to_variable(eval_data_x)\n",
        "                    eval_data_y = fluid.dygraph.to_variable(eval_data_y)\n",
        "\n",
        "                    eval_predict=model(eval_data_x)\n",
        "                    eval_loss=fluid.layers.mse_loss(eval_predict,eval_data_y)\n",
        "                    eval_loss=fluid.layers.mean(eval_loss)\n",
        "                    evalavg_loss.append(eval_loss.numpy()[0])\n",
        "                all_eval_loss.append(sum(evalavg_loss)/len(evalavg_loss))\n",
        "        print(\"epoch:{},batch_id:{},train_loss:{},eval_loss:{}\".format(pass_num,batch_id,avg_loss.numpy(),sum(evalavg_loss)/len(evalavg_loss)))     \n",
        "\n",
        "    fluid.save_dygraph(model.state_dict(),'./model/MyLSTMModel')\n",
        "    fluid.save_dygraph(opt.state_dict(),'./model/MyLSTMModel')\n",
        "    print(\"Final loss: {}\".format(avg_loss.numpy()))    \n",
        "   \n",
        "draw_train_loss(Batchs,all_train_loss,all_eval_loss, 'LSTM')"
      ]
    },
    {
      "cell_type": "markdown",
      "metadata": {
        "collapsed": false,
        "id": "LQ6HFcez9ye_"
      },
      "source": [
        "## ARIMA"
      ]
    },
    {
      "cell_type": "markdown",
      "metadata": {
        "collapsed": false,
        "id": "o85Zxu0d9ye_"
      },
      "source": [
        "###As can be seen from the data graph, this data is not stationary data. So I'm going to do it in a logarithmic way."
      ]
    },
    {
      "cell_type": "code",
      "execution_count": null,
      "metadata": {
        "id": "4GmfKBqr9yfA",
        "outputId": "e26b0456-0aad-4b2c-ff91-c2f25ac04891"
      },
      "outputs": [
        {
          "data": {
            "text/plain": [
              "[<matplotlib.lines.Line2D at 0x7f0c27e78c90>]"
            ]
          },
          "execution_count": 62,
          "metadata": {},
          "output_type": "execute_result"
        },
        {
          "data": {
            "image/png": "[encoded data removed]",
            "text/plain": [
              "<Figure size 432x288 with 1 Axes>"
            ]
          },
          "metadata": {},
          "output_type": "display_data"
        }
      ],
      "source": [
        "data_arma = np.log(data_pd['over'].values)\n",
        "\n",
        "data_arma_diff = np.diff(data_arma)[1:]\n",
        "\n",
        "plt.plot(data_arma_diff)"
      ]
    },
    {
      "cell_type": "markdown",
      "metadata": {
        "collapsed": false,
        "id": "SJZUco4S9yfA"
      },
      "source": [
        "### We run the ADF test and we're 99% sure that we reject the null hypothesis, that the sequence is stable\n",
        "\n"
      ]
    },
    {
      "cell_type": "code",
      "execution_count": null,
      "metadata": {
        "id": "GbXfGTPw9yfA",
        "outputId": "a1f2f4f3-bbd5-489c-f1aa-02ed05319dbf"
      },
      "outputs": [
        {
          "name": "stdout",
          "output_type": "stream",
          "text": [
            "数据ADF检验： (-16.832939284099503, 1.1541145534317975e-29, 14, 5113, {'1%': -3.4316295982872163, '5%': -2.862105446825125, '10%': -2.5670709875579742}, -28114.78953050096)\n"
          ]
        }
      ],
      "source": [
        "\n",
        "print('ADF：',sm.tsa.stattools.adfuller(data_arma_diff))"
      ]
    },
    {
      "cell_type": "code",
      "execution_count": null,
      "metadata": {
        "id": "Ng5e4vTA9yfA",
        "outputId": "f47cac90-b301-4cde-84a5-5a41c149ebd0"
      },
      "outputs": [
        {
          "data": {
            "image/png": "[encoded data removed]",
            "text/plain": [
              "<Figure size 432x288 with 1 Axes>"
            ]
          },
          "metadata": {},
          "output_type": "display_data"
        }
      ],
      "source": [
        "\n",
        "fig = sm.graphics.tsa.plot_acf(data_arma_diff,lags=20)"
      ]
    },
    {
      "cell_type": "code",
      "execution_count": null,
      "metadata": {
        "id": "hPoxgjiB9yfB",
        "outputId": "c4d37825-37b9-4912-ce83-a6b97b7226fd"
      },
      "outputs": [
        {
          "data": {
            "image/png": "[encoded data removed]",
            "text/plain": [
              "<Figure size 432x288 with 1 Axes>"
            ]
          },
          "metadata": {},
          "output_type": "display_data"
        }
      ],
      "source": [
        "\n",
        "fig = sm.graphics.tsa.plot_pacf(data_arma_diff,lags=20)"
      ]
    },
    {
      "cell_type": "code",
      "execution_count": null,
      "metadata": {
        "id": "Lf0hzxgc9yfB",
        "outputId": "3e32d8ef-18f5-4f8d-a9d3-b094dc61a466"
      },
      "outputs": [
        {
          "name": "stdout",
          "output_type": "stream",
          "text": [
            "-28216.94080446194 -28203.85547248716 -28212.36051191957\n",
            "-28216.65350553987 -28197.025507577702 -28209.783066726315\n",
            "-28220.09157165933 -28187.378241722385 -28208.6408403034\n"
          ]
        },
        {
          "name": "stderr",
          "output_type": "stream",
          "text": [
            "/opt/conda/envs/python35-paddle120-env/lib/python3.7/site-packages/statsmodels/tsa/statespace/sarimax.py:966: UserWarning: Non-stationary starting autoregressive parameters found. Using zeros as starting parameters.\n",
            "  warn('Non-stationary starting autoregressive parameters'\n",
            "/opt/conda/envs/python35-paddle120-env/lib/python3.7/site-packages/statsmodels/tsa/statespace/sarimax.py:978: UserWarning: Non-invertible starting MA parameters found. Using zeros as starting parameters.\n",
            "  warn('Non-invertible starting MA parameters found.'\n"
          ]
        },
        {
          "name": "stdout",
          "output_type": "stream",
          "text": [
            "-28214.711599602502 -28188.540935652945 -28205.55101451776\n"
          ]
        }
      ],
      "source": [
        "\n",
        "arima_mod10 = sm.tsa.arima.ARIMA(data_arma,order=(1,1,0)).fit()\n",
        "print(arima_mod10.aic,arima_mod10.bic,arima_mod10.hqic)\n",
        "\n",
        "# ARIMA（2,1,0）\n",
        "arima_mod20 = sm.tsa.arima.ARIMA(data_arma,order=(2,1,0)).fit()\n",
        "print(arima_mod20.aic,arima_mod20.bic,arima_mod20.hqic)\n",
        "\n",
        "# ARIMA（2,1,2）\n",
        "arima_mod22 = sm.tsa.arima.ARIMA(data_arma,order=(2,1,2)).fit()\n",
        "print(arima_mod22.aic,arima_mod22.bic,arima_mod22.hqic)\n",
        "\n",
        "# ARIMA（2,1,1）\n",
        "arima_mod21 = sm.tsa.arima.ARIMA(data_arma,order=(2,1,1)).fit()\n",
        "print(arima_mod21.aic,arima_mod21.bic,arima_mod21.hqic)"
      ]
    },
    {
      "cell_type": "code",
      "execution_count": null,
      "metadata": {
        "id": "yx-RB-jo9yfB",
        "outputId": "f87c07bc-78c9-41c4-a321-071eda533ca1"
      },
      "outputs": [
        {
          "data": {
            "image/png": "[encoded data removed]",
            "text/plain": [
              "<Figure size 720x504 with 2 Axes>"
            ]
          },
          "metadata": {},
          "output_type": "display_data"
        }
      ],
      "source": [
        "\n",
        "arima_mod=arima_mod10\n",
        "resid = arima_mod.resid\n",
        "fig = plt.figure(figsize=(10,7))\n",
        "ax1 = fig.add_subplot(211)\n",
        "fig = sm.graphics.tsa.plot_acf(resid,ax=ax1)\n",
        "ax2 = fig.add_subplot(212)\n",
        "fig = sm.graphics.tsa.plot_pacf(resid,ax=ax2)"
      ]
    },
    {
      "cell_type": "code",
      "execution_count": null,
      "metadata": {
        "id": "g_K0nklr9yfB",
        "outputId": "dca8832f-0dee-4384-e2a9-1b39ca4566f7"
      },
      "outputs": [
        {
          "name": "stdout",
          "output_type": "stream",
          "text": [
            "1.0221139759680866\n"
          ]
        }
      ],
      "source": [
        "print(sm.stats.durbin_watson(arima_mod.resid))"
      ]
    },
    {
      "cell_type": "markdown",
      "metadata": {
        "collapsed": false,
        "id": "U5JOf9IF9yfB"
      },
      "source": [
        "##  The Result of Previous Training"
      ]
    },
    {
      "cell_type": "markdown",
      "metadata": {
        "collapsed": false,
        "id": "fUSYoGwE9yfC"
      },
      "source": [
        "### predict the outcome"
      ]
    },
    {
      "cell_type": "markdown",
      "metadata": {
        "collapsed": false,
        "id": "xip24cg-9yfC"
      },
      "source": [
        "#### Data set reduction function\n",
        "\n",
        "> The data normalized at the beginning needs to be restored during the actual drawing\n",
        "\n"
      ]
    },
    {
      "cell_type": "code",
      "execution_count": null,
      "metadata": {
        "id": "HFjsuU7l9yfC"
      },
      "outputs": [],
      "source": [
        "def inverse_transform(arr):\n",
        "    zero_arr = np.zeros((arr.shape[0], 3))\n",
        "    zero_data = np.hstack((arr, zero_arr))\n",
        "    # print(zero_data)\n",
        "    zero_data = scaler.inverse_transform(zero_data)\n",
        "    # print(zero_data)\n",
        "    \n",
        "    return zero_data[:, 0]\n"
      ]
    },
    {
      "cell_type": "markdown",
      "metadata": {
        "collapsed": false,
        "id": "Sg_aOX5j9yfC"
      },
      "source": [
        "#### Training set data prediction results\n",
        "\n"
      ]
    },
    {
      "cell_type": "code",
      "execution_count": null,
      "metadata": {
        "id": "9e4XsErj9yfC",
        "outputId": "d2113374-462f-4021-edf8-4838a7514911"
      },
      "outputs": [
        {
          "data": {
            "image/png": "[encoded data removed]",
            "text/plain": [
              "<Figure size 720x432 with 1 Axes>"
            ]
          },
          "metadata": {},
          "output_type": "display_data"
        }
      ],
      "source": [
        "with fluid.dygraph.guard(place):\n",
        "    accs = []\n",
        "    dnn_predict = []\n",
        "    model_lstm_dict, _ = fluid.load_dygraph('./model/MyLSTMModel.pdopt')\n",
        "    model_dnn_dict, _ = fluid.load_dygraph('./model/MyDNNModel.pdopt')\n",
        "    model_lstm = MyLSTMModel()\n",
        "    model_dnn = MyDNNModel()\n",
        "    model_lstm.load_dict(model_lstm_dict)\n",
        "    model_dnn.load_dict(model_dnn_dict) \n",
        "\n",
        "    train_reader = fluid.io.batch(reader=switch_reader(is_val=False), batch_size=train.shape[0])\n",
        "    train_data_x = np.array([x[0] for x in next(train_reader())],np.float32)\n",
        "    train_data_y = np.array([x[1] for x in next(train_reader())]).astype('float32')\n",
        "\n",
        "    train_data_x = fluid.dygraph.to_variable(train_data_x)\n",
        "    train_data_y = fluid.dygraph.to_variable(train_data_y)\n",
        "\n",
        "    train_dnn=model_dnn(train_data_x)\n",
        "    train_lstm=model_lstm(train_data_x)\n",
        "\n",
        "train_arma = arima_mod.predict(1, train.shape[0])\n",
        "train_arma = math.e**(train_arma)\n",
        "\n",
        "plt.figure(figsize=(10, 6))\n",
        "title=\"Train predict\"\n",
        "plt.title(title, fontsize=24)\n",
        "plt.xlabel(\"time\", fontsize=14)\n",
        "plt.ylabel(\"value\", fontsize=14)\n",
        "plt.plot(range(train.shape[0]), inverse_transform(train_dnn.numpy()), color='red', label='dnn')\n",
        "plt.plot(range(train.shape[0]), inverse_transform(train_lstm.numpy()), color='g', label='LSTM')\n",
        "plt.plot(range(train.shape[0]), inverse_transform(train_data_y.numpy()), color='b', label='eval')\n",
        "plt.plot(range(train.shape[0]), train_arma, label='arima')\n",
        "plt.legend()\n",
        "plt.grid()\n",
        "plt.savefig('./img/train_res.png', dpi=300)\n",
        "plt.show()"
      ]
    },
    {
      "cell_type": "markdown",
      "metadata": {
        "collapsed": false,
        "id": "J4trfOaP9yfC"
      },
      "source": [
        "#### Verification sets predict results\n",
        "\n"
      ]
    },
    {
      "cell_type": "code",
      "execution_count": null,
      "metadata": {
        "id": "pMTCIT8M9yfD",
        "outputId": "57ea628b-98eb-4282-8dea-3bca37fd0de3"
      },
      "outputs": [
        {
          "data": {
            "image/png": "[encoded data removed]",
            "text/plain": [
              "<Figure size 720x432 with 1 Axes>"
            ]
          },
          "metadata": {},
          "output_type": "display_data"
        }
      ],
      "source": [
        "with fluid.dygraph.guard(place):\n",
        "    accs = []\n",
        "    dnn_predict = []\n",
        "    model_lstm_dict, _ = fluid.load_dygraph('./model/MyLSTMModel.pdopt')\n",
        "    model_dnn_dict, _ = fluid.load_dygraph('./model/MyDNNModel.pdopt')\n",
        "    model_lstm = MyLSTMModel()\n",
        "    model_dnn = MyDNNModel()\n",
        "    model_lstm.load_dict(model_lstm_dict)\n",
        "    model_dnn.load_dict(model_dnn_dict) \n",
        "\n",
        "    val_reader = fluid.io.batch(reader=switch_reader(is_val=True), batch_size=test.shape[0])\n",
        "    # print(len(next(val_reader())))\n",
        "    eval_data_x = np.array([x[0] for x in next(val_reader())],np.float32)\n",
        "    eval_data_y = np.array([x[1] for x in next(val_reader())]).astype('float32')\n",
        "\n",
        "    eval_data_x = fluid.dygraph.to_variable(eval_data_x)\n",
        "    eval_data_y = fluid.dygraph.to_variable(eval_data_y)\n",
        "\n",
        "    eval_dnn=model_dnn(eval_data_x)\n",
        "    eval_lstm=model_lstm(eval_data_x)\n",
        "\n",
        "test_arma = arima_mod.predict(train.shape[0]+1, train.shape[0]+test.shape[0])\n",
        "test_arma = math.e**(test_arma)\n",
        "\n",
        "plt.figure(figsize=(10, 6))\n",
        "title=\"Test predict\"\n",
        "plt.title(title, fontsize=24)\n",
        "plt.xlabel(\"time\", fontsize=14)\n",
        "plt.ylabel(\"value\", fontsize=14)\n",
        "plt.plot(range(test.shape[0]), inverse_transform(eval_dnn.numpy()), color='red', label='dnn')\n",
        "plt.plot(range(test.shape[0]), inverse_transform(eval_lstm.numpy()), color='g', label='LSTM')\n",
        "plt.plot(range(test.shape[0]), inverse_transform(eval_data_y.numpy()), color='b', label='eval')\n",
        "plt.plot(range(test.shape[0]), test_arma, label='arima')\n",
        "plt.legend()\n",
        "plt.grid()\n",
        "plt.savefig('./img/test_res.png', dpi=300)\n",
        "plt.show()\n"
      ]
    }
  ],
  "metadata": {
    "kernelspec": {
      "display_name": "Python 3",
      "language": "python",
      "name": "py35-paddle1.2.0"
    },
    "language_info": {
      "codemirror_mode": {
        "name": "ipython",
        "version": 3
      },
      "file_extension": ".py",
      "mimetype": "text/x-python",
      "name": "python",
      "nbconvert_exporter": "python",
      "pygments_lexer": "ipython3",
      "version": "3.7.4"
    },
    "colab": {
      "provenance": []
    }
  },
  "nbformat": 4,
  "nbformat_minor": 0
}